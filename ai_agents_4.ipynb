{
 "cells": [
  {
   "cell_type": "markdown",
   "id": "b5789bc3-b1ae-42c7-94a8-2ef4f89946fc",
   "metadata": {},
   "source": [
    "# Lesson 4: Persistence and Streaming"
   ]
  },
  {
   "cell_type": "code",
   "execution_count": 1,
   "id": "f5762271-8736-4e94-9444-8c92bd0e8074",
   "metadata": {
    "height": 64
   },
   "outputs": [],
   "source": [
    "from dotenv import load_dotenv\n",
    "\n",
    "_ = load_dotenv()"
   ]
  },
  {
   "cell_type": "code",
   "execution_count": 2,
   "id": "d0168aee-bce9-4d60-b827-f86a88187e31",
   "metadata": {
    "height": 115
   },
   "outputs": [],
   "source": [
    "from langgraph.graph import StateGraph, END\n",
    "from typing import TypedDict, Annotated\n",
    "import operator\n",
    "from langchain_core.messages import AnyMessage, SystemMessage, HumanMessage, ToolMessage\n",
    "from langchain_openai import ChatOpenAI\n",
    "from langchain_community.tools.tavily_search import TavilySearchResults"
   ]
  },
  {
   "cell_type": "code",
   "execution_count": 3,
   "id": "da06a64f-a2d5-4a66-8090-9ada0930c684",
   "metadata": {
    "height": 30
   },
   "outputs": [],
   "source": [
    "tool = TavilySearchResults(max_results=2)"
   ]
  },
  {
   "cell_type": "code",
   "execution_count": 4,
   "id": "2589c5b6-6cc2-4594-9a17-dccdcf676054",
   "metadata": {
    "height": 47
   },
   "outputs": [],
   "source": [
    "class AgentState(TypedDict):\n",
    "    messages: Annotated[list[AnyMessage], operator.add]"
   ]
  },
  {
   "cell_type": "code",
   "execution_count": 5,
   "id": "9c033522-d2fc-41ac-8e3c-5e35872bf88d",
   "metadata": {
    "height": 64
   },
   "outputs": [],
   "source": [
    "from langgraph.checkpoint.sqlite import SqliteSaver\n",
    "\n",
    "memory = SqliteSaver.from_conn_string(\":memory:\")"
   ]
  },
  {
   "cell_type": "code",
   "execution_count": 6,
   "id": "a2ba84ec-c172-4de7-ac55-e3158a531b23",
   "metadata": {
    "height": 574
   },
   "outputs": [],
   "source": [
    "class Agent:\n",
    "    def __init__(self, model, tools, checkpointer, system=\"\"):\n",
    "        self.system = system\n",
    "        graph = StateGraph(AgentState)\n",
    "        graph.add_node(\"llm\", self.call_openai)\n",
    "        graph.add_node(\"action\", self.take_action)\n",
    "        graph.add_conditional_edges(\"llm\", self.exists_action, {True: \"action\", False: END})\n",
    "        graph.add_edge(\"action\", \"llm\")\n",
    "        graph.set_entry_point(\"llm\")\n",
    "        self.graph = graph.compile(checkpointer=checkpointer)\n",
    "        self.tools = {t.name: t for t in tools}\n",
    "        self.model = model.bind_tools(tools)\n",
    "\n",
    "    def call_openai(self, state: AgentState):\n",
    "        messages = state['messages']\n",
    "        if self.system:\n",
    "            messages = [SystemMessage(content=self.system)] + messages\n",
    "        message = self.model.invoke(messages)\n",
    "        return {'messages': [message]}\n",
    "\n",
    "    def exists_action(self, state: AgentState):\n",
    "        result = state['messages'][-1]\n",
    "        return len(result.tool_calls) > 0\n",
    "\n",
    "    def take_action(self, state: AgentState):\n",
    "        tool_calls = state['messages'][-1].tool_calls\n",
    "        results = []\n",
    "        for t in tool_calls:\n",
    "            print(f\"Calling: {t}\")\n",
    "            result = self.tools[t['name']].invoke(t['args'])\n",
    "            results.append(ToolMessage(tool_call_id=t['id'], name=t['name'], content=str(result)))\n",
    "        print(\"Back to the model!\")\n",
    "        return {'messages': results}"
   ]
  },
  {
   "cell_type": "code",
   "execution_count": 7,
   "id": "876d5092-b8ef-4e38-b4d7-0e80c609bf7a",
   "metadata": {
    "height": 132
   },
   "outputs": [],
   "source": [
    "prompt = \"\"\"You are a smart research assistant. Use the search engine to look up information. \\\n",
    "You are allowed to make multiple calls (either together or in sequence). \\\n",
    "Only look up information when you are sure of what you want. \\\n",
    "If you need to look up some information before asking a follow up question, you are allowed to do that!\n",
    "\"\"\"\n",
    "model = ChatOpenAI(model=\"gpt-4o\")\n",
    "abot = Agent(model, [tool], system=prompt, checkpointer=memory)"
   ]
  },
  {
   "cell_type": "code",
   "execution_count": 8,
   "id": "10084a02-2928-4945-9f7c-ad3f5b33caf7",
   "metadata": {
    "height": 30
   },
   "outputs": [],
   "source": [
    "messages = [HumanMessage(content=\"What is the weather in sf?\")]"
   ]
  },
  {
   "cell_type": "code",
   "execution_count": 9,
   "id": "714d1205-f8fc-4912-b148-2a45da99219c",
   "metadata": {
    "height": 30
   },
   "outputs": [],
   "source": [
    "thread = {\"configurable\": {\"thread_id\": \"1\"}}"
   ]
  },
  {
   "cell_type": "code",
   "execution_count": 10,
   "id": "83588e70-254f-4f83-a510-c8ae81e729b0",
   "metadata": {
    "height": 64
   },
   "outputs": [
    {
     "name": "stdout",
     "output_type": "stream",
     "text": [
      "[AIMessage(content='', additional_kwargs={'tool_calls': [{'id': 'call_bmfLa92f6oAIKN9KvXtqbKDz', 'function': {'arguments': '{\"query\":\"current weather in San Francisco\"}', 'name': 'tavily_search_results_json'}, 'type': 'function'}]}, response_metadata={'token_usage': {'completion_tokens': 22, 'prompt_tokens': 151, 'total_tokens': 173, 'prompt_tokens_details': {'cached_tokens': 0, 'audio_tokens': 0}, 'completion_tokens_details': {'reasoning_tokens': 0, 'audio_tokens': 0, 'accepted_prediction_tokens': 0, 'rejected_prediction_tokens': 0}}, 'model_name': 'gpt-4o', 'system_fingerprint': 'fp_831e067d82', 'finish_reason': 'tool_calls', 'logprobs': None}, id='run-e116f3f9-bd2d-47bd-911a-f53b7d933bb1-0', tool_calls=[{'name': 'tavily_search_results_json', 'args': {'query': 'current weather in San Francisco'}, 'id': 'call_bmfLa92f6oAIKN9KvXtqbKDz'}])]\n",
      "Calling: {'name': 'tavily_search_results_json', 'args': {'query': 'current weather in San Francisco'}, 'id': 'call_bmfLa92f6oAIKN9KvXtqbKDz'}\n",
      "Back to the model!\n",
      "[ToolMessage(content='[{\\'url\\': \\'https://www.weatherapi.com/\\', \\'content\\': \"{\\'location\\': {\\'name\\': \\'San Francisco\\', \\'region\\': \\'California\\', \\'country\\': \\'United States of America\\', \\'lat\\': 37.775, \\'lon\\': -122.4183, \\'tz_id\\': \\'America/Los_Angeles\\', \\'localtime_epoch\\': 1742543147, \\'localtime\\': \\'2025-03-21 00:45\\'}, \\'current\\': {\\'last_updated_epoch\\': 1742543100, \\'last_updated\\': \\'2025-03-21 00:45\\', \\'temp_c\\': 9.4, \\'temp_f\\': 48.9, \\'is_day\\': 0, \\'condition\\': {\\'text\\': \\'Partly cloudy\\', \\'icon\\': \\'//cdn.weatherapi.com/weather/64x64/night/116.png\\', \\'code\\': 1003}, \\'wind_mph\\': 5.4, \\'wind_kph\\': 8.6, \\'wind_degree\\': 323, \\'wind_dir\\': \\'NW\\', \\'pressure_mb\\': 1025.0, \\'pressure_in\\': 30.26, \\'precip_mm\\': 0.0, \\'precip_in\\': 0.0, \\'humidity\\': 74, \\'cloud\\': 25, \\'feelslike_c\\': 8.2, \\'feelslike_f\\': 46.7, \\'windchill_c\\': 7.9, \\'windchill_f\\': 46.3, \\'heatindex_c\\': 8.7, \\'heatindex_f\\': 47.6, \\'dewpoint_c\\': 7.8, \\'dewpoint_f\\': 46.1, \\'vis_km\\': 16.0, \\'vis_miles\\': 9.0, \\'uv\\': 0.0, \\'gust_mph\\': 8.5, \\'gust_kph\\': 13.6}}\"}, {\\'url\\': \\'https://en.climate-data.org/north-america/united-states-of-america/california/san-francisco-385/t/march-3/\\', \\'content\\': \"| Max. Temperature °C (°F) | 14 °C\\\\n(57.3) °F\\\\n| 14.9 °C\\\\n(58.7) °F\\\\n| 16.2 °C\\\\n(61.2) °F\\\\n| 17.4 °C\\\\n(63.3) °F\\\\n| 19.2 °C\\\\n(66.5) °F\\\\n| 21.5 °C\\\\n(70.8) °F\\\\n| 21.8 °C\\\\n(71.2) °F\\\\n| 22.2 °C\\\\n(71.9) °F\\\\n| 23.1 °C\\\\n(73.6) °F\\\\n| 21.3 °C\\\\n(70.3) °F\\\\n| 17.1 °C\\\\n(62.8) °F\\\\n| 13.9 °C\\\\n(57.1) °F\\\\n|\\\\n| Precipitation / Rainfall mm (in) | 113\\\\n(4)\\\\n| 118\\\\n(4)\\\\n| 83\\\\n(3)\\\\n| 40\\\\n(1)\\\\n| 21\\\\n(0)\\\\n| 6\\\\n(0)\\\\n| 2\\\\n(0)\\\\n| 2\\\\n(0)\\\\n| 3\\\\n(0)\\\\n| 25\\\\n(0)\\\\n| 57\\\\n(2)\\\\n| 111\\\\n(4)\\\\n|\\\\n| Humidity(%) | 79% | 80% | 78% | 72% | 70% | 69% | 74% | 74% | 71% | 70% | 76% | 78% | [...] (50.8) °F\\\\n| 11.6 °C\\\\n(52.9) °F\\\\n| 12.5 °C\\\\n(54.6) °F\\\\n| 14.1 °C\\\\n(57.4) °F\\\\n| 15.9 °C\\\\n(60.7) °F\\\\n| 16.3 °C\\\\n(61.4) °F\\\\n| 16.7 °C\\\\n(62.1) °F\\\\n| 17.1 °C\\\\n(62.7) °F\\\\n| 15.7 °C\\\\n(60.2) °F\\\\n| 12.4 °C\\\\n(54.4) °F\\\\n| 9.9 °C\\\\n(49.8) °F\\\\n|\\\\n| Min. Temperature °C (°F) | 6.2 °C\\\\n(43.2) °F\\\\n| 7.1 °C\\\\n(44.8) °F\\\\n| 8.2 °C\\\\n(46.8) °F\\\\n| 8.9 °C\\\\n(48.1) °F\\\\n| 10.3 °C\\\\n(50.6) °F\\\\n| 11.8 °C\\\\n(53.3) °F\\\\n| 12.7 °C\\\\n(54.9) °F\\\\n| 13.3 °C\\\\n(55.9) °F\\\\n| 13.1 °C\\\\n(55.6) °F\\\\n| 11.9 °C\\\\n(53.4) °F\\\\n| 9 °C\\\\n(48.2) °F\\\\n| 6.8 °C\\\\n(44.2) °F\\\\n| [...] March in San Francisco brings mild temperatures, with an average temperature of around 52.9°F (11.6°C). The highest temperatures typically reach up to 61.2°F (16.2°C), providing a comfortable climate for exploring the city\\'s outdoor attractions and vibrant neighborhoods. On cooler days, the lowest temperatures can drop to about 46.8°F (8.2°C), so it\\'s wise to pack layers when visiting during this time of year. Whether strolling through Golden Gate Park or enjoying a ferry ride to Alcatraz\"}]', name='tavily_search_results_json', tool_call_id='call_bmfLa92f6oAIKN9KvXtqbKDz')]\n",
      "[AIMessage(content=\"The current weather in San Francisco is partly cloudy with a temperature of 9.4°C (48.9°F). The wind is coming from the northwest at 5.4 mph (8.6 kph). The humidity is at 74%, and there is no precipitation at the moment. The visibility is 16 km (9 miles), and it's nighttime with a UV index of 0.0.\", response_metadata={'token_usage': {'completion_tokens': 85, 'prompt_tokens': 1478, 'total_tokens': 1563, 'prompt_tokens_details': {'cached_tokens': 0, 'audio_tokens': 0}, 'completion_tokens_details': {'reasoning_tokens': 0, 'audio_tokens': 0, 'accepted_prediction_tokens': 0, 'rejected_prediction_tokens': 0}}, 'model_name': 'gpt-4o', 'system_fingerprint': 'fp_90d33c15d4', 'finish_reason': 'stop', 'logprobs': None}, id='run-288a3930-6d9f-4baf-8807-09650e69a47c-0')]\n"
     ]
    }
   ],
   "source": [
    "for event in abot.graph.stream({\"messages\": messages}, thread):\n",
    "    for v in event.values():\n",
    "        print(v['messages'])"
   ]
  },
  {
   "cell_type": "code",
   "execution_count": 11,
   "id": "6cb3ef4c-58b3-401b-b104-0d51e553d982",
   "metadata": {
    "height": 98
   },
   "outputs": [
    {
     "name": "stdout",
     "output_type": "stream",
     "text": [
      "{'messages': [AIMessage(content='', additional_kwargs={'tool_calls': [{'id': 'call_NzlZEOg6NcdtOOOFXH9zL3rR', 'function': {'arguments': '{\"query\":\"current weather in Los Angeles\"}', 'name': 'tavily_search_results_json'}, 'type': 'function'}]}, response_metadata={'token_usage': {'completion_tokens': 23, 'prompt_tokens': 1574, 'total_tokens': 1597, 'prompt_tokens_details': {'cached_tokens': 0, 'audio_tokens': 0}, 'completion_tokens_details': {'reasoning_tokens': 0, 'audio_tokens': 0, 'accepted_prediction_tokens': 0, 'rejected_prediction_tokens': 0}}, 'model_name': 'gpt-4o', 'system_fingerprint': 'fp_90d33c15d4', 'finish_reason': 'tool_calls', 'logprobs': None}, id='run-05791a6f-d995-4bee-b58e-86a92f5ab7aa-0', tool_calls=[{'name': 'tavily_search_results_json', 'args': {'query': 'current weather in Los Angeles'}, 'id': 'call_NzlZEOg6NcdtOOOFXH9zL3rR'}])]}\n",
      "Calling: {'name': 'tavily_search_results_json', 'args': {'query': 'current weather in Los Angeles'}, 'id': 'call_NzlZEOg6NcdtOOOFXH9zL3rR'}\n",
      "Back to the model!\n",
      "{'messages': [ToolMessage(content='[{\\'url\\': \\'https://www.easeweather.com/north-america/united-states/california/los-angeles-county/los-angeles/march\\', \\'content\\': \\'| 69° /51° | 0\\\\xa0in | 5 |  |\\\\n| Mar. 20 | \\\\nSunny\\\\n| 73° /53° | 0\\\\xa0in | 1.4 |  |\\\\n| Mar. 21 | \\\\nSunny\\\\n| 69° /50° | 0\\\\xa0in | 1.5 |  |\\\\n| Mar. 22 | \\\\nCloudy\\\\n| 64° /48° | 0\\\\xa0in | 1.5 |  |\\\\n| Mar. 23 | \\\\nPartly cloudy\\\\n| 73° /50° | 0\\\\xa0in | 1.7 |  |\\\\n| Mar. 24 | \\\\nSunny\\\\n| 80° /60° | 0\\\\xa0in | 0 |  |\\\\n| Mar. 25 | \\\\nSunny\\\\n| 82° /62° | 0\\\\xa0in | 6 |  |\\\\n| Mar. 26 | \\\\nSunny\\\\n| 80° /64° | 0\\\\xa0in | 6 |  |\\\\n| Mar. 27 | \\\\nSunny\\\\n| 80° /64° | 0\\\\xa0in | 6 |  |\\\\n| Mar. 28 | \\\\nSunny\\\\n| 71° /60° | 0\\\\xa0in | 5 |  |\\\\n| Mar. 29 | \\\\nSunny [...] March\\\\nJanuaryFebruary\\\\nMarch\\\\nAprilMayJuneJulyAugustSeptemberOctoberNovemberDecember\\\\nWeather in Los Angeles for March 2025\\\\nYour guide to Los Angeles weather in March - trends and predictions\\\\nTemperatures\\\\n\\\\n\\\\nUntil now, March 2025 in Los Angeles is cooler than usual, with temperatures averaging 56\\\\xa0°F, this is -7.9\\\\xa0°F below the typical seasonal average.\\\\n\\\\n\\\\nThe forecast for the next days in Los Angeles predicts temperatures to be around 73\\\\xa0°F, close to the historical average. [...] | 30  69° | 31  69° |  |  |  |  |  |\\'}, {\\'url\\': \\'https://www.weatherapi.com/\\', \\'content\\': \"{\\'location\\': {\\'name\\': \\'Los Angeles\\', \\'region\\': \\'California\\', \\'country\\': \\'United States of America\\', \\'lat\\': 34.0522, \\'lon\\': -118.2428, \\'tz_id\\': \\'America/Los_Angeles\\', \\'localtime_epoch\\': 1742544359, \\'localtime\\': \\'2025-03-21 01:05\\'}, \\'current\\': {\\'last_updated_epoch\\': 1742544000, \\'last_updated\\': \\'2025-03-21 01:00\\', \\'temp_c\\': 13.3, \\'temp_f\\': 55.9, \\'is_day\\': 0, \\'condition\\': {\\'text\\': \\'Clear\\', \\'icon\\': \\'//cdn.weatherapi.com/weather/64x64/night/113.png\\', \\'code\\': 1000}, \\'wind_mph\\': 2.2, \\'wind_kph\\': 3.6, \\'wind_degree\\': 131, \\'wind_dir\\': \\'SE\\', \\'pressure_mb\\': 1018.0, \\'pressure_in\\': 30.05, \\'precip_mm\\': 0.0, \\'precip_in\\': 0.0, \\'humidity\\': 72, \\'cloud\\': 0, \\'feelslike_c\\': 13.9, \\'feelslike_f\\': 57.0, \\'windchill_c\\': 12.8, \\'windchill_f\\': 55.0, \\'heatindex_c\\': 13.2, \\'heatindex_f\\': 55.7, \\'dewpoint_c\\': 9.1, \\'dewpoint_f\\': 48.3, \\'vis_km\\': 16.0, \\'vis_miles\\': 9.0, \\'uv\\': 0.0, \\'gust_mph\\': 2.6, \\'gust_kph\\': 4.2}}\"}]', name='tavily_search_results_json', tool_call_id='call_NzlZEOg6NcdtOOOFXH9zL3rR')]}\n",
      "{'messages': [AIMessage(content=\"The current weather in Los Angeles is clear with a temperature of 13.3°C (55.9°F). The wind is coming from the southeast at 2.2 mph (3.6 kph). The humidity is at 72%, and there is no precipitation. The visibility is 16 km (9 miles), and it's nighttime with a UV index of 0.0.\", response_metadata={'token_usage': {'completion_tokens': 81, 'prompt_tokens': 2500, 'total_tokens': 2581, 'prompt_tokens_details': {'cached_tokens': 1536, 'audio_tokens': 0}, 'completion_tokens_details': {'reasoning_tokens': 0, 'audio_tokens': 0, 'accepted_prediction_tokens': 0, 'rejected_prediction_tokens': 0}}, 'model_name': 'gpt-4o', 'system_fingerprint': 'fp_90d33c15d4', 'finish_reason': 'stop', 'logprobs': None}, id='run-2d3ea1bb-1c8c-48a1-b88c-e854641bb05b-0')]}\n"
     ]
    }
   ],
   "source": [
    "messages = [HumanMessage(content=\"What about in la?\")]\n",
    "thread = {\"configurable\": {\"thread_id\": \"1\"}}\n",
    "for event in abot.graph.stream({\"messages\": messages}, thread):\n",
    "    for v in event.values():\n",
    "        print(v)"
   ]
  },
  {
   "cell_type": "code",
   "execution_count": 12,
   "id": "dc3293b7-a50c-43c8-a022-8975e1e444b8",
   "metadata": {
    "height": 98
   },
   "outputs": [
    {
     "name": "stdout",
     "output_type": "stream",
     "text": [
      "{'messages': [AIMessage(content='Currently, Los Angeles is warmer than San Francisco. The temperature in Los Angeles is 13.3°C (55.9°F), while in San Francisco, it is 9.4°C (48.9°F).', response_metadata={'token_usage': {'completion_tokens': 47, 'prompt_tokens': 2592, 'total_tokens': 2639, 'prompt_tokens_details': {'cached_tokens': 2560, 'audio_tokens': 0}, 'completion_tokens_details': {'reasoning_tokens': 0, 'audio_tokens': 0, 'accepted_prediction_tokens': 0, 'rejected_prediction_tokens': 0}}, 'model_name': 'gpt-4o', 'system_fingerprint': 'fp_90d33c15d4', 'finish_reason': 'stop', 'logprobs': None}, id='run-d5bc9368-9c9f-44a5-9b95-2af24fec0aea-0')]}\n"
     ]
    }
   ],
   "source": [
    "messages = [HumanMessage(content=\"Which one is warmer?\")]\n",
    "thread = {\"configurable\": {\"thread_id\": \"1\"}}\n",
    "for event in abot.graph.stream({\"messages\": messages}, thread):\n",
    "    for v in event.values():\n",
    "        print(v)"
   ]
  },
  {
   "cell_type": "code",
   "execution_count": 13,
   "id": "0722c3d4-4cbf-43bf-81b0-50f634c4ce61",
   "metadata": {
    "height": 98
   },
   "outputs": [
    {
     "name": "stdout",
     "output_type": "stream",
     "text": [
      "{'messages': [AIMessage(content=\"Could you please clarify what you're comparing to determine which is warmer? Are you comparing two specific locations, types of clothing, materials, or something else? Let me know so I can provide the appropriate information.\", response_metadata={'token_usage': {'completion_tokens': 43, 'prompt_tokens': 149, 'total_tokens': 192, 'prompt_tokens_details': {'cached_tokens': 0, 'audio_tokens': 0}, 'completion_tokens_details': {'reasoning_tokens': 0, 'audio_tokens': 0, 'accepted_prediction_tokens': 0, 'rejected_prediction_tokens': 0}}, 'model_name': 'gpt-4o', 'system_fingerprint': 'fp_f9f4fb6dbf', 'finish_reason': 'stop', 'logprobs': None}, id='run-ba4dbeb6-c57d-4e17-a35f-c41c505a2e2d-0')]}\n"
     ]
    }
   ],
   "source": [
    "messages = [HumanMessage(content=\"Which one is warmer?\")]\n",
    "thread = {\"configurable\": {\"thread_id\": \"2\"}}\n",
    "for event in abot.graph.stream({\"messages\": messages}, thread):\n",
    "    for v in event.values():\n",
    "        print(v)"
   ]
  },
  {
   "cell_type": "markdown",
   "id": "ace59a36-3941-459e-b9d1-ac5a4a1ed3ae",
   "metadata": {},
   "source": [
    "## Streaming tokens"
   ]
  },
  {
   "cell_type": "code",
   "execution_count": 14,
   "id": "6b2f82fe-3ec4-4917-be51-9fb10d1317fa",
   "metadata": {
    "height": 81
   },
   "outputs": [],
   "source": [
    "from langgraph.checkpoint.aiosqlite import AsyncSqliteSaver\n",
    "\n",
    "memory = AsyncSqliteSaver.from_conn_string(\":memory:\")\n",
    "abot = Agent(model, [tool], system=prompt, checkpointer=memory)"
   ]
  },
  {
   "cell_type": "code",
   "execution_count": 15,
   "id": "ee0fe1c7-77e2-499c-a2f9-1f739bb6ddf0",
   "metadata": {
    "height": 200
   },
   "outputs": [
    {
     "name": "stderr",
     "output_type": "stream",
     "text": [
      "/usr/local/lib/python3.11/site-packages/langchain_core/_api/beta_decorator.py:87: LangChainBetaWarning: This API is in beta and may change in the future.\n",
      "  warn_beta(\n"
     ]
    },
    {
     "name": "stdout",
     "output_type": "stream",
     "text": [
      "Calling: {'name': 'tavily_search_results_json', 'args': {'query': 'current weather in San Francisco'}, 'id': 'call_ELSmZ2F8EZGoY7UfTT9TT3cV'}\n",
      "Back to the model!\n",
      "The| current| weather| in| San| Francisco| is| partly| cloudy| with| a| temperature| of| |9|.|4|°C| (|48|.|9|°F|).| The| wind| is| coming| from| the| northwest| at| |5|.|4| mph| (|8|.|6| k|ph|),| and| the| humidity| is| at| |74|%.| The| feels|-like| temperature| is| around| |8|.|2|°C| (|46|.|7|°F|).|"
     ]
    }
   ],
   "source": [
    "messages = [HumanMessage(content=\"What is the weather in SF?\")]\n",
    "thread = {\"configurable\": {\"thread_id\": \"4\"}}\n",
    "async for event in abot.graph.astream_events({\"messages\": messages}, thread, version=\"v1\"):\n",
    "    kind = event[\"event\"]\n",
    "    if kind == \"on_chat_model_stream\":\n",
    "        content = event[\"data\"][\"chunk\"].content\n",
    "        if content:\n",
    "            # Empty content in the context of OpenAI means\n",
    "            # that the model is asking for a tool to be invoked.\n",
    "            # So we only print non-empty content\n",
    "            print(content, end=\"|\")"
   ]
  },
  {
   "cell_type": "code",
   "execution_count": null,
   "id": "98f303b1-a4d0-408c-8cc0-515ff980717f",
   "metadata": {
    "height": 30
   },
   "outputs": [],
   "source": []
  }
 ],
 "metadata": {
  "kernelspec": {
   "display_name": "Python 3 (ipykernel)",
   "language": "python",
   "name": "python3"
  },
  "language_info": {
   "codemirror_mode": {
    "name": "ipython",
    "version": 3
   },
   "file_extension": ".py",
   "mimetype": "text/x-python",
   "name": "python",
   "nbconvert_exporter": "python",
   "pygments_lexer": "ipython3",
   "version": "3.11.9"
  }
 },
 "nbformat": 4,
 "nbformat_minor": 5
}
